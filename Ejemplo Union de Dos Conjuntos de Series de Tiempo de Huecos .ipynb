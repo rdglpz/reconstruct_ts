{
 "cells": [
  {
   "cell_type": "markdown",
   "metadata": {},
   "source": [
    "# Ejemplo Columna auxiliar para buscar serie de datos contiguos sin huecos sintéticos o reales "
   ]
  },
  {
   "cell_type": "markdown",
   "metadata": {},
   "source": []
  },
  {
   "cell_type": "markdown",
   "metadata": {},
   "source": [
    "# Librerias \n",
    "Se importan las librerías que se usan a lo largo del README"
   ]
  },
  {
   "cell_type": "code",
   "execution_count": 1,
   "metadata": {},
   "outputs": [
    {
     "name": "stdout",
     "output_type": "stream",
     "text": [
      "Datos agregados\n",
      "Datos agregados\n",
      "Datos agregados\n",
      "Datos importados\n",
      "Datos agregados\n",
      "[1.0, 2.0, 3.0, nan, nan, 4.0, 2.0, 5.0, 6.0, 7.0, 8.0, 9.0]\n",
      "[1.0, 2.0, 3.0, nan, nan, 4.0, nan, 5.0, 6.0, 7.0, 8.0, 9.0]\n"
     ]
    }
   ],
   "source": [
    "#Se importa la libreria pandas para observar el archivo de tiempo\n",
    "#Libreria para manipular variables de tiempo\n",
    "#Importación de la libreria desarrollada\n",
    "#Libreria que permite crear series de datos con caos\n",
    "import pandas as pd    \n",
    "import matplotlib.pyplot as plt       \n",
    "import datetime\n",
    "import cmpy2 \n",
    "from lorenz import *"
   ]
  },
  {
   "cell_type": "markdown",
   "metadata": {},
   "source": [
    "## EJEMPLO 1:\n",
    "### POCOS DATOS. \n",
    "\n",
    "La libreria tiene como entradas dos listas, la primera es una lista de tamñano n de números reales y la segunda es una lista de tamaño n de fechas "
   ]
  },
  {
   "cell_type": "code",
   "execution_count": 17,
   "metadata": {},
   "outputs": [],
   "source": [
    "#Lista de datos con valores nulos\n",
    "data = [1,2,3,np.nan,np.nan,4,5,np.nan,6,7,8,9]\n",
    "#Liista de fechas\n",
    "date = ['01/01/1986 01:00:00', '01/01/1986 02:00:00', '01/01/1986 03:00:00', '01/01/1986 04:00:00', '01/01/1986 05:00:00', '01/01/1986 06:00:00', '01/01/1986 07:00:00', '01/01/1986 08:00:00', '01/01/1986 09:00:00', '01/01/1986 10:00:00', '01/01/1986 11:00:00', '01/01/1986 12:00:00']"
   ]
  },
  {
   "cell_type": "markdown",
   "metadata": {},
   "source": [
    "Usanda la libreria  **cmpy** ingresamos los datos y las fechas en el objeto Reconstruir y con ello creamos una estrucutra que busca facilitar la implentación de métodos de reconstrucción y visualización de datos."
   ]
  },
  {
   "cell_type": "code",
   "execution_count": 18,
   "metadata": {
    "tags": []
   },
   "outputs": [
    {
     "name": "stdout",
     "output_type": "stream",
     "text": [
      "Datos agregados\n",
      "Datos agregados\n",
      "Datos agregados\n",
      "Datos importados\n"
     ]
    }
   ],
   "source": [
    "#Vector de clasificación v = [0.6,0.2,0.2], la suma debe ser uno.\n",
    "clasificacion = [0.6,0.2,0.2]\n",
    "#Creación del objeto se alimenta con el vector de datos, el vector de fechas y el vector de clasificación (opcional)\n",
    "prueba = cmpy2.Reconstruir(data,date,\"Prueba\",clasificacion)"
   ]
  },
  {
   "cell_type": "markdown",
   "metadata": {},
   "source": [
    "Se ha creado una matriz que organiza los datos en tres columnas:\n",
    "* date: Columna de fechas en formato de tiempo.\n",
    "* data: Columna de datos.\n",
    "* S: Clasificación de los datos en (E)ntrenamiento, (P)rueba y (V)erificación."
   ]
  },
  {
   "cell_type": "code",
   "execution_count": 19,
   "metadata": {},
   "outputs": [
    {
     "data": {
      "text/html": [
       "<div>\n",
       "<style scoped>\n",
       "    .dataframe tbody tr th:only-of-type {\n",
       "        vertical-align: middle;\n",
       "    }\n",
       "\n",
       "    .dataframe tbody tr th {\n",
       "        vertical-align: top;\n",
       "    }\n",
       "\n",
       "    .dataframe thead th {\n",
       "        text-align: right;\n",
       "    }\n",
       "</style>\n",
       "<table border=\"1\" class=\"dataframe\">\n",
       "  <thead>\n",
       "    <tr style=\"text-align: right;\">\n",
       "      <th></th>\n",
       "      <th>date</th>\n",
       "      <th>x_i</th>\n",
       "      <th>S</th>\n",
       "    </tr>\n",
       "  </thead>\n",
       "  <tbody>\n",
       "    <tr>\n",
       "      <th>0</th>\n",
       "      <td>1986-01-01 01:00:00</td>\n",
       "      <td>1.0</td>\n",
       "      <td>E</td>\n",
       "    </tr>\n",
       "    <tr>\n",
       "      <th>1</th>\n",
       "      <td>1986-01-01 02:00:00</td>\n",
       "      <td>2.0</td>\n",
       "      <td>E</td>\n",
       "    </tr>\n",
       "    <tr>\n",
       "      <th>2</th>\n",
       "      <td>1986-01-01 03:00:00</td>\n",
       "      <td>3.0</td>\n",
       "      <td>E</td>\n",
       "    </tr>\n",
       "    <tr>\n",
       "      <th>3</th>\n",
       "      <td>1986-01-01 04:00:00</td>\n",
       "      <td>NaN</td>\n",
       "      <td>E</td>\n",
       "    </tr>\n",
       "    <tr>\n",
       "      <th>4</th>\n",
       "      <td>1986-01-01 05:00:00</td>\n",
       "      <td>NaN</td>\n",
       "      <td>E</td>\n",
       "    </tr>\n",
       "    <tr>\n",
       "      <th>5</th>\n",
       "      <td>1986-01-01 06:00:00</td>\n",
       "      <td>4.0</td>\n",
       "      <td>E</td>\n",
       "    </tr>\n",
       "    <tr>\n",
       "      <th>6</th>\n",
       "      <td>1986-01-01 07:00:00</td>\n",
       "      <td>5.0</td>\n",
       "      <td>E</td>\n",
       "    </tr>\n",
       "    <tr>\n",
       "      <th>7</th>\n",
       "      <td>1986-01-01 08:00:00</td>\n",
       "      <td>NaN</td>\n",
       "      <td>E</td>\n",
       "    </tr>\n",
       "    <tr>\n",
       "      <th>8</th>\n",
       "      <td>1986-01-01 09:00:00</td>\n",
       "      <td>6.0</td>\n",
       "      <td>P</td>\n",
       "    </tr>\n",
       "    <tr>\n",
       "      <th>9</th>\n",
       "      <td>1986-01-01 10:00:00</td>\n",
       "      <td>7.0</td>\n",
       "      <td>P</td>\n",
       "    </tr>\n",
       "    <tr>\n",
       "      <th>10</th>\n",
       "      <td>1986-01-01 11:00:00</td>\n",
       "      <td>8.0</td>\n",
       "      <td>P</td>\n",
       "    </tr>\n",
       "    <tr>\n",
       "      <th>11</th>\n",
       "      <td>1986-01-01 12:00:00</td>\n",
       "      <td>9.0</td>\n",
       "      <td>V</td>\n",
       "    </tr>\n",
       "  </tbody>\n",
       "</table>\n",
       "</div>"
      ],
      "text/plain": [
       "                  date  x_i  S\n",
       "0  1986-01-01 01:00:00  1.0  E\n",
       "1  1986-01-01 02:00:00  2.0  E\n",
       "2  1986-01-01 03:00:00  3.0  E\n",
       "3  1986-01-01 04:00:00  NaN  E\n",
       "4  1986-01-01 05:00:00  NaN  E\n",
       "5  1986-01-01 06:00:00  4.0  E\n",
       "6  1986-01-01 07:00:00  5.0  E\n",
       "7  1986-01-01 08:00:00  NaN  E\n",
       "8  1986-01-01 09:00:00  6.0  P\n",
       "9  1986-01-01 10:00:00  7.0  P\n",
       "10 1986-01-01 11:00:00  8.0  P\n",
       "11 1986-01-01 12:00:00  9.0  V"
      ]
     },
     "execution_count": 19,
     "metadata": {},
     "output_type": "execute_result"
    }
   ],
   "source": [
    "prueba.df"
   ]
  },
  {
   "cell_type": "code",
   "execution_count": 20,
   "metadata": {},
   "outputs": [
    {
     "data": {
      "text/plain": [
       "[<matplotlib.lines.Line2D at 0x7f9b234e1510>]"
      ]
     },
     "execution_count": 20,
     "metadata": {},
     "output_type": "execute_result"
    },
    {
     "data": {
      "image/png": "[encoded data removed]",
      "text/plain": [
       "<Figure size 432x288 with 1 Axes>"
      ]
     },
     "metadata": {
      "needs_background": "light"
     },
     "output_type": "display_data"
    }
   ],
   "source": [
    "plt.plot(prueba.df[\"x_i\"])"
   ]
  },
  {
   "cell_type": "markdown",
   "metadata": {},
   "source": [
    "Podemos observar de forma estadistica los datos numéricos usando el método **describe**, el cual mostrará la relación de datos y el histograma relacionado. Se puede agregar contenido en función de las necesidades."
   ]
  },
  {
   "cell_type": "code",
   "execution_count": 21,
   "metadata": {
    "tags": []
   },
   "outputs": [
    {
     "name": "stdout",
     "output_type": "stream",
     "text": [
      "12 elementos en Prueba. \n",
      " 9 datos y 3 huecos\n"
     ]
    },
    {
     "data": {
      "image/png": "[encoded data removed]",
      "text/plain": [
       "<Figure size 432x288 with 1 Axes>"
      ]
     },
     "metadata": {},
     "output_type": "display_data"
    },
    {
     "data": {
      "image/png": "[encoded data removed]",
      "text/plain": [
       "<Figure size 432x288 with 1 Axes>"
      ]
     },
     "metadata": {
      "needs_background": "light"
     },
     "output_type": "display_data"
    },
    {
     "data": {
      "image/png": "[encoded data removed]",
      "text/plain": [
       "<Figure size 432x288 with 1 Axes>"
      ]
     },
     "metadata": {
      "needs_background": "light"
     },
     "output_type": "display_data"
    }
   ],
   "source": [
    "prueba.describe()"
   ]
  },
  {
   "cell_type": "markdown",
   "metadata": {},
   "source": [
    "Podemos obtener los datos del historgrama creado al usar el método **hist** el cual regresa la posición y el peso, en ese orden"
   ]
  },
  {
   "cell_type": "code",
   "execution_count": 22,
   "metadata": {
    "tags": []
   },
   "outputs": [
    {
     "data": {
      "image/png": "[encoded data removed]",
      "text/plain": [
       "<Figure size 432x288 with 1 Axes>"
      ]
     },
     "metadata": {
      "needs_background": "light"
     },
     "output_type": "display_data"
    },
    {
     "name": "stdout",
     "output_type": "stream",
     "text": [
      "Posición:  [0, 1, 2]\n",
      "Peso: [0, 1, 1]\n"
     ]
    }
   ],
   "source": [
    "n, bins = prueba.hist('x_i','h')\n",
    "print(\"Posición: \",n)\n",
    "print(\"Peso:\", bins)"
   ]
  },
  {
   "cell_type": "markdown",
   "metadata": {},
   "source": [
    "El objeto permite crear huecos siguiendo un arreglo aleatorio de una secuencia de huecos o pesos (para esta aplicación)"
   ]
  },
  {
   "cell_type": "code",
   "execution_count": 23,
   "metadata": {
    "tags": []
   },
   "outputs": [
    {
     "name": "stdout",
     "output_type": "stream",
     "text": [
      "Datos agregados\n"
     ]
    }
   ],
   "source": [
    "#Secuencia aleatoria de números\n",
    "denH = [1,3,5,7,42,1]\n",
    "denD = [4,2,1,4,1,2]\n",
    "#Nueva columna\n",
    "nuevaCol = prueba.generadorHuecos(denH,denD)"
   ]
  },
  {
   "cell_type": "markdown",
   "metadata": {},
   "source": [
    "El método **generadorHuecos** crea en la matriz principal una nueva columna y tiene a la salida el arreglo agregado. La columna creada toma la siguiente nomenclatura **HGV#**, con # variando en función de la posición de la columna que tome"
   ]
  },
  {
   "cell_type": "code",
   "execution_count": 28,
   "metadata": {
    "tags": []
   },
   "outputs": [
    {
     "name": "stdout",
     "output_type": "stream",
     "text": [
      "Nueva columna [ 1.  1.  1.  1. nan  1.  1. nan nan nan  1. nan]\n"
     ]
    },
    {
     "data": {
      "text/html": [
       "<div>\n",
       "<style scoped>\n",
       "    .dataframe tbody tr th:only-of-type {\n",
       "        vertical-align: middle;\n",
       "    }\n",
       "\n",
       "    .dataframe tbody tr th {\n",
       "        vertical-align: top;\n",
       "    }\n",
       "\n",
       "    .dataframe thead th {\n",
       "        text-align: right;\n",
       "    }\n",
       "</style>\n",
       "<table border=\"1\" class=\"dataframe\">\n",
       "  <thead>\n",
       "    <tr style=\"text-align: right;\">\n",
       "      <th></th>\n",
       "      <th>date</th>\n",
       "      <th>x_i</th>\n",
       "      <th>S</th>\n",
       "      <th>HGV3</th>\n",
       "    </tr>\n",
       "  </thead>\n",
       "  <tbody>\n",
       "    <tr>\n",
       "      <th>0</th>\n",
       "      <td>1986-01-01 01:00:00</td>\n",
       "      <td>1.0</td>\n",
       "      <td>E</td>\n",
       "      <td>1.0</td>\n",
       "    </tr>\n",
       "    <tr>\n",
       "      <th>1</th>\n",
       "      <td>1986-01-01 02:00:00</td>\n",
       "      <td>2.0</td>\n",
       "      <td>E</td>\n",
       "      <td>1.0</td>\n",
       "    </tr>\n",
       "    <tr>\n",
       "      <th>2</th>\n",
       "      <td>1986-01-01 03:00:00</td>\n",
       "      <td>3.0</td>\n",
       "      <td>E</td>\n",
       "      <td>1.0</td>\n",
       "    </tr>\n",
       "    <tr>\n",
       "      <th>3</th>\n",
       "      <td>1986-01-01 04:00:00</td>\n",
       "      <td>NaN</td>\n",
       "      <td>E</td>\n",
       "      <td>1.0</td>\n",
       "    </tr>\n",
       "    <tr>\n",
       "      <th>4</th>\n",
       "      <td>1986-01-01 05:00:00</td>\n",
       "      <td>NaN</td>\n",
       "      <td>E</td>\n",
       "      <td>NaN</td>\n",
       "    </tr>\n",
       "    <tr>\n",
       "      <th>5</th>\n",
       "      <td>1986-01-01 06:00:00</td>\n",
       "      <td>4.0</td>\n",
       "      <td>E</td>\n",
       "      <td>1.0</td>\n",
       "    </tr>\n",
       "    <tr>\n",
       "      <th>6</th>\n",
       "      <td>1986-01-01 07:00:00</td>\n",
       "      <td>5.0</td>\n",
       "      <td>E</td>\n",
       "      <td>1.0</td>\n",
       "    </tr>\n",
       "    <tr>\n",
       "      <th>7</th>\n",
       "      <td>1986-01-01 08:00:00</td>\n",
       "      <td>NaN</td>\n",
       "      <td>E</td>\n",
       "      <td>NaN</td>\n",
       "    </tr>\n",
       "    <tr>\n",
       "      <th>8</th>\n",
       "      <td>1986-01-01 09:00:00</td>\n",
       "      <td>6.0</td>\n",
       "      <td>P</td>\n",
       "      <td>NaN</td>\n",
       "    </tr>\n",
       "    <tr>\n",
       "      <th>9</th>\n",
       "      <td>1986-01-01 10:00:00</td>\n",
       "      <td>7.0</td>\n",
       "      <td>P</td>\n",
       "      <td>NaN</td>\n",
       "    </tr>\n",
       "    <tr>\n",
       "      <th>10</th>\n",
       "      <td>1986-01-01 11:00:00</td>\n",
       "      <td>8.0</td>\n",
       "      <td>P</td>\n",
       "      <td>1.0</td>\n",
       "    </tr>\n",
       "    <tr>\n",
       "      <th>11</th>\n",
       "      <td>1986-01-01 12:00:00</td>\n",
       "      <td>9.0</td>\n",
       "      <td>V</td>\n",
       "      <td>NaN</td>\n",
       "    </tr>\n",
       "  </tbody>\n",
       "</table>\n",
       "</div>"
      ],
      "text/plain": [
       "                  date  x_i  S  HGV3\n",
       "0  1986-01-01 01:00:00  1.0  E   1.0\n",
       "1  1986-01-01 02:00:00  2.0  E   1.0\n",
       "2  1986-01-01 03:00:00  3.0  E   1.0\n",
       "3  1986-01-01 04:00:00  NaN  E   1.0\n",
       "4  1986-01-01 05:00:00  NaN  E   NaN\n",
       "5  1986-01-01 06:00:00  4.0  E   1.0\n",
       "6  1986-01-01 07:00:00  5.0  E   1.0\n",
       "7  1986-01-01 08:00:00  NaN  E   NaN\n",
       "8  1986-01-01 09:00:00  6.0  P   NaN\n",
       "9  1986-01-01 10:00:00  7.0  P   NaN\n",
       "10 1986-01-01 11:00:00  8.0  P   1.0\n",
       "11 1986-01-01 12:00:00  9.0  V   NaN"
      ]
     },
     "execution_count": 28,
     "metadata": {},
     "output_type": "execute_result"
    }
   ],
   "source": [
    "print(\"Nueva columna\",nuevaCol)\n",
    "prueba.df"
   ]
  },
  {
   "cell_type": "markdown",
   "metadata": {},
   "source": [
    "## Ejemplo: Union de Dos Conjuntos de Series de Tiempo de Huecos \n",
    "\n",
    "Para considerar una secuencia válida durante la busqueda de vecinos, esta no debe tener NaN (datos faltantes) en posiciones utilizadas por la máscara $M$ en la columna de la serie de tiempo original y en la columna de Huecos Artificiales.\n",
    "\n",
    "Para esto se genera un nuevo vector que incluya los huecos de las dos series. \n",
    "\n",
    "Dado a que las localidades del vector de huecos contiene $NaN$'s para indicar un hueco artificial y $1$ para indicar un dato, es posible calcular la unión de huecos de las dos series con una multiplicación de vectores.\n",
    "\n",
    "A continuación un ejemplo:"
   ]
  },
  {
   "cell_type": "code",
   "execution_count": 51,
   "metadata": {},
   "outputs": [
    {
     "data": {
      "image/png": "[encoded data removed]",
      "text/plain": [
       "<Figure size 1080x1080 with 3 Axes>"
      ]
     },
     "metadata": {
      "needs_background": "light"
     },
     "output_type": "display_data"
    }
   ],
   "source": [
    "\n",
    "plt.figure(figsize = (15,15))\n",
    "\n",
    "plt.subplot(221)\n",
    "plt.title(\"ST original con Huecos\")\n",
    "plt.plot(prueba.df[\"x_i\"])\n",
    "\n",
    "plt.subplot(222)\n",
    "plt.title(\"ST de Huecos Sintéticos\")\n",
    "plt.plot(prueba.df[\"HGV3\"])\n",
    "\n",
    "plt.subplot(223)\n",
    "plt.title(\"Huecos Artificiales + Huecos Reales\")\n",
    "unionH = prueba.df[\"x_i\"]*prueba.df[\"HGV3\"]\n",
    "plt.plot(unionH)\n",
    "\n",
    "plt.subplots_adjust(bottom=0.25, top=0.75)\n",
    "plt.show()\n"
   ]
  },
  {
   "cell_type": "code",
   "execution_count": null,
   "metadata": {},
   "outputs": [],
   "source": []
  }
 ],
 "metadata": {
  "file_extension": ".py",
  "kernelspec": {
   "display_name": "Python 3",
   "language": "python",
   "name": "python3"
  },
  "language_info": {
   "codemirror_mode": {
    "name": "ipython",
    "version": 3
   },
   "file_extension": ".py",
   "mimetype": "text/x-python",
   "name": "python",
   "nbconvert_exporter": "python",
   "pygments_lexer": "ipython3",
   "version": "3.7.6"
  },
  "mimetype": "text/x-python",
  "name": "python",
  "npconvert_exporter": "python",
  "pygments_lexer": "ipython3",
  "version": 3
 },
 "nbformat": 4,
 "nbformat_minor": 4
}
