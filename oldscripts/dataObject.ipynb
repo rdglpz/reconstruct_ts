{
 "cells": [
  {
   "cell_type": "code",
   "execution_count": 1,
   "metadata": {},
   "outputs": [
    {
     "ename": "ModuleNotFoundError",
     "evalue": "No module named 'matplotlib'",
     "output_type": "error",
     "traceback": [
      "\u001b[0;31m---------------------------------------------------------------------------\u001b[0m",
      "\u001b[0;31mModuleNotFoundError\u001b[0m                       Traceback (most recent call last)",
      "\u001b[0;32m<ipython-input-1-c42962c43f02>\u001b[0m in \u001b[0;36m<module>\u001b[0;34m\u001b[0m\n\u001b[1;32m      2\u001b[0m \u001b[0;32mimport\u001b[0m \u001b[0mpandas\u001b[0m \u001b[0;32mas\u001b[0m \u001b[0mpd\u001b[0m \u001b[0;31m#Permite leer el CSV\u001b[0m\u001b[0;34m\u001b[0m\u001b[0;34m\u001b[0m\u001b[0m\n\u001b[1;32m      3\u001b[0m \u001b[0;32mimport\u001b[0m \u001b[0mnumpy\u001b[0m \u001b[0;32mas\u001b[0m \u001b[0mnp\u001b[0m  \u001b[0;31m#Permite trabajar con arreglos de pandas y usar nan\u001b[0m\u001b[0;34m\u001b[0m\u001b[0;34m\u001b[0m\u001b[0m\n\u001b[0;32m----> 4\u001b[0;31m \u001b[0;32mimport\u001b[0m \u001b[0mmatplotlib\u001b[0m\u001b[0;34m.\u001b[0m\u001b[0mpyplot\u001b[0m \u001b[0;32mas\u001b[0m \u001b[0mplt\u001b[0m \u001b[0;31m#Permite graficar\u001b[0m\u001b[0;34m\u001b[0m\u001b[0;34m\u001b[0m\u001b[0m\n\u001b[0m\u001b[1;32m      5\u001b[0m \u001b[0;32mimport\u001b[0m \u001b[0mos\u001b[0m   \u001b[0;31m#Permite interactuar con las rutas de la pc\u001b[0m\u001b[0;34m\u001b[0m\u001b[0;34m\u001b[0m\u001b[0m\n\u001b[1;32m      6\u001b[0m \u001b[0;32mimport\u001b[0m \u001b[0mmath\u001b[0m \u001b[0;32mas\u001b[0m \u001b[0mmt\u001b[0m \u001b[0;31m# Permite hacer comparaciones logicas\u001b[0m\u001b[0;34m\u001b[0m\u001b[0;34m\u001b[0m\u001b[0m\n",
      "\u001b[0;31mModuleNotFoundError\u001b[0m: No module named 'matplotlib'"
     ]
    }
   ],
   "source": [
    "#Librerias\n",
    "import pandas as pd #Permite leer el CSV\n",
    "import numpy as np  #Permite trabajar con arreglos de pandas y usar nan\n",
    "import matplotlib.pyplot as plt #Permite graficar\n",
    "import os   #Permite interactuar con las rutas de la pc\n",
    "import math as mt # Permite hacer comparaciones logicas\n",
    "from itertools import groupby #Para una funcion\n",
    "from operator import itemgetter #Para una función\n",
    "import csv\n",
    "from datetime import datetime\n",
    "from sklearn.linear_model import LinearRegression\n",
    "import random"
   ]
  },
  {
   "cell_type": "code",
   "execution_count": 4,
   "metadata": {},
   "outputs": [],
   "source": [
    "class d03():\n",
    "    \n",
    "    def __init__(self, datafile='O3 CDMX 1986-2018 all sites.csv'):\n",
    "        \"\"\"Carga el archivo que contiene los datos de las estaciones\"\"\"\n",
    "        try:\n",
    "            self.dt = pd.read_csv(datafile)\n",
    "            print(\"Datos exportados\")\n",
    "        except:\n",
    "            print(\"Datos no exportados\")\n",
    "    \n",
    "    def exportDB(self, estacion, v = [50,25,25],n = 0):\n",
    "        \"\"\"Crea un csv de cada estación que contiene el archivo original\n",
    "        siguiendo el siguiente encabezado\n",
    "        |FECHA|DATO MEDIDO|isNull|TRAIN|Test|Test2|\"\"\"\n",
    "        #Usado para tomar menos datos de los que contiene el archivo\n",
    "        if estacion in self.dt.keys():\n",
    "\n",
    "            if n == 0:\n",
    "                n = len(self.dt[estacion])\n",
    "\n",
    "            #Crea el nuevo archivo\n",
    "            file = open('./CSVfiles/format_%s.csv'%estacion,'w')\n",
    "            file.write('date,x_i,isNull,Train,Test,Test2\\n')\n",
    "\n",
    "            tmp = self.dt\n",
    "            i = 0\n",
    "            a = [1,0,0];b = [0,1,0];c = [0,0,1]\n",
    "            aux = 0 \n",
    "\n",
    "            for i in range(len(v)):\n",
    "    #            print(a[i],b[i],c[i])\n",
    "    #            print(aux,aux+round(n*(v[i]/100))-1)\n",
    "                for elemento in range(aux,aux+round(n*(v[i]/100))-1):\n",
    "                    file.write('{},{},{},{},{},{}\\n'.\n",
    "                               format(tmp['date'][elemento],tmp[estacion][elemento],\n",
    "                                     mt.isnan(tmp[estacion][elemento]),\n",
    "                                     a[i],b[i],c[i]))\n",
    "                aux += round(n*(v[i]/100))\n",
    "            print('Datos de la estacción %s exportados'%estacion)\n",
    "            file.close()\n",
    "            print('Archivo creado')\n",
    "            \n",
    "        else:\n",
    "            print('Estación no encontrada')\n",
    "                      \n",
    "        \n",
    "    def exportA(self):\n",
    "        \"\"\"Crea un CSV de todas las estaciones que se encuentran en el archivo\"\"\"\n",
    "        \n",
    "        print(\"Exportando todas las estación\")\n",
    "        print(\"Esto puede tardar un tiempo\")\n",
    "        for estacion in self.dt.keys()[1:]:\n",
    "            print(\"Exportando los datos de la estación %s\"%estacion)\n",
    "            self.exportDB(estacion)\n",
    "            print(\"Datos de la estación %s exportados\"%estacion)   \n",
    "    \n",
    "    \n",
    "    def Hplot(self,estacion, file = False):\n",
    "        \"\"\"A la vez que crea un archivo en el cual incluye la ubicación de los\n",
    "        huecos, la cantidad de huecos, imprime un histograma y una gráfica\n",
    "        tipo pie donde hace una relación de los datos existentes vs los datos faltates\"\"\"\n",
    "        if estacion in self.dt.keys():\n",
    "            try:\n",
    "                dt = pd.read_csv('./CSVfiles/format_%s.csv'%estacion)\n",
    "                self.exportH(dt['isNull'],estacion)\n",
    "                dh = pd.read_csv('./CSVfiles/hist_%s.csv'%estacion)\n",
    "                plt.figure(figsize=[10,10])\n",
    "                plt.subplot(2,1,1)\n",
    "                plt.title('Relación de datos faltantes')\n",
    "                plt.pie(self.Nnan(dt['isNull']),labels=['Datos','NAN'],explode=(0.1,0))\n",
    "                plt.subplot(2,1,2)\n",
    "                plt.title('Histograma de huecos')\n",
    "                plt.xlabel('Número de huecos')\n",
    "                plt.ylabel('Cantidad de huecos')\n",
    "                plt.hist(dh['Size'])\n",
    "            except:\n",
    "                print('No existe un documento de la estación.\\n Crea uno usando la función exportDB')\n",
    "        else:\n",
    "            print('Estación no valida')\n",
    "            \n",
    "        \n",
    "    def exportH(self,array,estacion):\n",
    "        \"\"\"La entrada debe ser un array de booleanos, la salida indica\n",
    "        la posición de los booleanos positivos y la cantidad de ellos\"\"\"\n",
    "        f = open(r'./CSVfiles/hist_%s.csv'%estacion,'w')\n",
    "        f.write('PosIni,PosFin,Size\\n')\n",
    "        count = 0\n",
    "        ini = 0\n",
    "        fin = 0\n",
    "        for pos in range(len(array)):\n",
    "            if array[pos]:\n",
    "                if count == 0:\n",
    "                    ini = pos\n",
    "                count += 1\n",
    "            else:\n",
    "                if count != 0:\n",
    "                    fin = pos - 1\n",
    "                    f.write('{},{},{}\\n'.format(ini,fin,count))\n",
    "                count = 0\n",
    "        if count != 0:\n",
    "            fin = len(array)-1\n",
    "            f.write('{},{},{}\\n'.format(ini,fin,count))\n",
    "        f.close()\n",
    "                \n",
    "            \n",
    "    def Nnan(self,array):\n",
    "        \"\"\"Normaliza la cantidad de datos\"\"\"\n",
    "        s = len(array)\n",
    "        sn = 0\n",
    "        for elemento in array:\n",
    "            if elemento:\n",
    "                sn+=1\n",
    "        sn = (sn/s)*100\n",
    "        s = 100 - sn\n",
    "        return([s,sn])\n",
    "    \n"
   ]
  },
  {
   "cell_type": "code",
   "execution_count": 5,
   "metadata": {},
   "outputs": [
    {
     "name": "stdout",
     "output_type": "stream",
     "text": [
      "Datos exportados\n"
     ]
    }
   ],
   "source": [
    "cdmx = d03()"
   ]
  },
  {
   "cell_type": "code",
   "execution_count": 8,
   "metadata": {},
   "outputs": [
    {
     "name": "stdout",
     "output_type": "stream",
     "text": [
      "Datos de la estacción PED exportados\n",
      "Archivo creado\n"
     ]
    }
   ],
   "source": [
    "cdmx.exportDB('PED',n=200)"
   ]
  },
  {
   "cell_type": "code",
   "execution_count": 9,
   "metadata": {},
   "outputs": [
    {
     "data": {
      "image/png": "[encoded data removed]",
      "text/plain": [
       "<matplotlib.figure.Figure at 0x2a13de37080>"
      ]
     },
     "metadata": {},
     "output_type": "display_data"
    }
   ],
   "source": [
    "cdmx.Hplot('PED')"
   ]
  },
  {
   "cell_type": "markdown",
   "metadata": {},
   "source": [
    "Primero se crea un conjunto de datos con la funci+on f\n",
    "Despues se crean huecos de tamaño 1\n",
    "Se crea un subconjunto de datos y se le ggeneran huecos de tamaño 1\n",
    "Se busca en el primer conjunto los valores para rellenar los huecos y se almacena el valor anterior al hueco, el que le sigue y el valor con el que se rellena\n",
    "Después se hace una regresión lineal para llenar los huecos del segundo conjunto con huecos.\n",
    "\n",
    "En las gráficas se ve el proocedimiento gráfico"
   ]
  },
  {
   "cell_type": "code",
   "execution_count": 3,
   "metadata": {},
   "outputs": [
    {
     "data": {
      "image/png": "[encoded data removed]",
      "text/plain": [
       "<matplotlib.figure.Figure at 0x198d15503c8>"
      ]
     },
     "metadata": {},
     "output_type": "display_data"
    },
    {
     "name": "stdout",
     "output_type": "stream",
     "text": [
      "Quitar 15\n",
      "Quitar 26\n",
      "Quitar 38\n",
      "Quitar 51\n",
      "Quitar 65\n",
      "Quitar 80\n",
      "Quitar 96\n",
      "Quitar 113\n",
      "Quitar 131\n",
      "Quitar 150\n",
      "Quitar 170\n",
      "Quitar 191\n",
      "Quitar 213\n",
      "Quitar 236\n",
      "Quitar 260\n",
      "Quitar 285\n",
      "Quitar 311\n",
      "Quitar 338\n",
      "Quitar 366\n",
      "Quitar 395\n"
     ]
    },
    {
     "data": {
      "image/png": "[encoded data removed]",
      "text/plain": [
       "<matplotlib.figure.Figure at 0x198d1408828>"
      ]
     },
     "metadata": {},
     "output_type": "display_data"
    },
    {
     "name": "stdout",
     "output_type": "stream",
     "text": [
      "3\n",
      "7\n",
      "12\n",
      "18\n",
      "25\n"
     ]
    },
    {
     "data": {
      "image/png": "[encoded data removed]",
      "text/plain": [
       "<matplotlib.figure.Figure at 0x198d1409048>"
      ]
     },
     "metadata": {},
     "output_type": "display_data"
    },
    {
     "name": "stdout",
     "output_type": "stream",
     "text": [
      "coefficient of determination: 1.0\n",
      "intercept: -2.000000000000057\n",
      "slope: [0.5 0.5]\n",
      "predicted response:\n",
      "[ 13.  24.  36.  49.  63.  78.  94. 111. 129. 148. 168. 189. 211. 234.\n",
      " 258. 283. 309. 336. 364. 393.]\n",
      "predicted response:\n",
      "[ 13.  24.  36.  49.  63.  78.  94. 111. 129. 148. 168. 189. 211. 234.\n",
      " 258. 283. 309. 336. 364. 393.]\n"
     ]
    },
    {
     "data": {
      "image/png": "[encoded data removed]",
      "text/plain": [
       "<matplotlib.figure.Figure at 0x198d15bb8d0>"
      ]
     },
     "metadata": {},
     "output_type": "display_data"
    },
    {
     "name": "stdout",
     "output_type": "stream",
     "text": [
      "5\n",
      "nan\n",
      "10.000000000000004\n",
      "nan\n",
      "14.000000000000007\n",
      "nan\n",
      "19.000000000000007\n",
      "nan\n",
      "25.000000000000014\n",
      "nan\n",
      "32.000000000000014\n"
     ]
    },
    {
     "data": {
      "image/png": "[encoded data removed]",
      "text/plain": [
       "<matplotlib.figure.Figure at 0x198d189dba8>"
      ]
     },
     "metadata": {},
     "output_type": "display_data"
    }
   ],
   "source": [
    "import numpy as np\n",
    "import matplotlib.pyplot as plt\n",
    "\n",
    "#def f(x):\n",
    " #   x = x/(2*3.14159)+0.3\n",
    "#    return(np.sin(x)*np.cos(x%0.12)/(x))\n",
    "\n",
    "def f(x):\n",
    "    return(x+4)\n",
    "\n",
    "#Datos generados\n",
    "x = list(range(1,1001))\n",
    "y = [f(xi) for xi in x]\n",
    "yt = [f(xi) for xi in range(100)]\n",
    "\n",
    "plt.figure()\n",
    "plt.title(\"Datos\")\n",
    "plt.plot(x,y)\n",
    "plt.show()\n",
    "\n",
    "import matplotlib.pyplot as plt\n",
    "import random\n",
    "import math as mt\n",
    "posH = []\n",
    "n=0\n",
    "\n",
    "#Huecos generados\n",
    "m = random.randrange(20)\n",
    "for i in range(20):\n",
    "    n+=i+m\n",
    "    print(\"Quitar\",y[n])\n",
    "    y[n] = np.nan\n",
    "    posH.append(n)\n",
    "    \n",
    "plt.figure()\n",
    "plt.title(\"Datos con huecos\")\n",
    "plt.plot(x,y)\n",
    "plt.show()\n",
    "posHt = []\n",
    "n = 0\n",
    "m = random.randrange(10)\n",
    "\n",
    "for i in range(5):\n",
    "    n += i+m\n",
    "    print(n)\n",
    "    yt[n + 3] = np.nan\n",
    "    posHt.append(n+3)\n",
    "    \n",
    "\n",
    "#Comparar y guardar el indice\n",
    "dmin = 100\n",
    "dtmp = 0\n",
    "i = 0\n",
    "index = []\n",
    "indexn = 0\n",
    "\n",
    "for pos in posH:\n",
    "    i = 0\n",
    "    dmin = 100\n",
    "    while(i < len(y)-1):\n",
    "        #print(y[i])\n",
    "        if mt.isnan(y[i]):\n",
    "            i += 2\n",
    "        elif(mt.isnan(y[i-1]) or mt.isnan(y[i+1])):\n",
    "            #print(y[i-1],y[i+1])\n",
    "            i += 1\n",
    "        else:\n",
    "            #print(\"Indice {}, tamaño {}\".format(i+1,len(y)))\n",
    "            dtmp = ((y[pos-1] - y[i-1])**2 + (y[pos+1]-y[i+1])**2)**1/2\n",
    "            if dtmp < dmin:\n",
    "                dmin = dtmp\n",
    "                #print(dmin, i-1,i+1)\n",
    "                #print(i)\n",
    "                indexn = i\n",
    "\n",
    "            i+=1\n",
    "            #print(pos,i)\n",
    "    index.append(indexn)\n",
    "\n",
    "for i in range(len(index)):\n",
    "    y[posH[i]] = y[index[i]]\n",
    "\n",
    "plt.figure()\n",
    "plt.title(\"Reconstrucción\")\n",
    "plt.plot(x,y)\n",
    "plt.show()\n",
    "\n",
    "X = [] #[A,D]\n",
    "R = []\n",
    "\n",
    "\n",
    "for i in posH:\n",
    "    X.append([y[i-1],y[i+1]])\n",
    "    R.append(y[i])\n",
    "    if(mt.isnan(y[i]) or mt.isnan(y[i-1]) or mt.isnan(y[i+1])):\n",
    "        print(y[i],y[i-1],y[i+1])\n",
    "    \n",
    "from sklearn.linear_model import LinearRegression\n",
    "\n",
    "x, y = np.array(X), np.array(R)\n",
    "model = LinearRegression().fit(x, y)\n",
    "r_sq = model.score(x, y)\n",
    "\n",
    "print('coefficient of determination:', r_sq)\n",
    "\n",
    "print('intercept:', model.intercept_)\n",
    "\n",
    "print('slope:', model.coef_)\n",
    "\n",
    "y_pred = model.predict(x)\n",
    "print('predicted response:', y_pred, sep='\\n')\n",
    "\n",
    "y_pred = model.intercept_ + np.sum(model.coef_ * x, axis=1)\n",
    "\n",
    "print('predicted response:', y_pred, sep='\\n')\n",
    "\n",
    "plt.figure()\n",
    "plt.title(\"Conjunto dos con huecos\")\n",
    "plt.plot(list(range(100)),yt)\n",
    "plt.show()\n",
    "\n",
    "x_new = []\n",
    "\n",
    "for i in range(5):\n",
    "    x_new.append([yt[posHt[i]-1],yt[posHt[i]+1]])\n",
    "\n",
    "y_new = model.predict(x_new)\n",
    "print(len(y_new))\n",
    "\n",
    "for i in range(len(y_new)):\n",
    "    print(yt[posHt[i]])\n",
    "    yt[posHt[i]] = y_new[i] + abs(model.intercept_)\n",
    "    print(yt[posHt[i]])\n",
    "    \n",
    "plt.figure()\n",
    "plt.title(\"Conjunto dos con regresión\")\n",
    "plt.plot(list(range(100)),yt)\n",
    "plt.show()"
   ]
  },
  {
   "cell_type": "code",
   "execution_count": 31,
   "metadata": {},
   "outputs": [],
   "source": [
    "def invec(v):\n",
    "    return([v[len(v) - item - 1] for item in range(len(v))])\n",
    "\n",
    "def VMask(h,tau,m):\n",
    "    \"\"\"Una función que crea un vector con ceros y unos\n",
    "        de acuerdo a un vectir de huecos [h], frecuencia tau\n",
    "        y un tamaño m. A la sialida un vector de tamaño 2m + len(h)\"\"\"\n",
    "    \n",
    "    a = list() #Crea una lista para almacenar valores 0,1\n",
    "    j = i = 0\n",
    "    vh = [0 for k in range(h)] # crea un vector de ceros\n",
    "    print(vh)\n",
    "    \n",
    "    #for i in range(0,m): #Crea un vector de tamaño m con valores 0,1\n",
    "    #    if i%tau == 0: #El modulo determina la posición de los unos\n",
    "    #        a.append(1)\n",
    "    #    else:\n",
    "    #        a.append(0)\n",
    "    while(j != m):\n",
    "        if i%tau == 0:\n",
    "            a.append(1)\n",
    "            j += 1\n",
    "        else:\n",
    "            a.append(0)\n",
    "        i += 1\n",
    "            \n",
    "    c = list() #Se crea el vector final, compuesto por un lado con el vector a, después el hueco, despues el vector a\n",
    "    [c.append(item) for item in invec(a)]\n",
    "    [c.append(item) for item in vh]\n",
    "    [c.append(item) for item in a]\n",
    "    \n",
    "    #Se regrsa el vector final\n",
    "    return c\n",
    "\n",
    "def doZero(vector):\n",
    "    \"\"\"Hace ceros los elementos nan\"\"\"\n",
    "    aux = list()\n",
    "    for elemento in vector:\n",
    "        if mt.isnan(elemento):\n",
    "            aux.append(0)\n",
    "        else:\n",
    "            aux.append(elemento)\n",
    "    return aux\n",
    "\n",
    "def getBestVec(Datos, VecH, Mascara):\n",
    "    \"\"\"Dada un vector con un hueco determinado por una mascara\n",
    "    se busca entre los datos aquel que sea el mejor vector\"\"\"\n",
    "    minV = int(np.matrix(doZero(VecH))*np.matrix(doZero(VecH)).transpose())#valor minimo inicial\n",
    "    #print(minV)\n",
    "    vec = None #Mejor vector asociado al minimo\n",
    "    #Para que inicie la función el tamaño de la mascara debe ser \n",
    "    #igual al tamaño del vector buscado     \n",
    "    if len(VecH) != len(Mascara):\n",
    "        return False\n",
    "    else:     \n",
    "        #Buscamos entre todos los datos, la condición permite obtener\n",
    "        #vectores de tamaño de la mascara y nos detiene cuando salgamos del tamaño\n",
    "        #del vector de datos\n",
    "        i = 0 #Posición inicial\n",
    "        while(i+len(Mascara) < len(Datos)):\n",
    "            #Primero verificamos que el vector no tenga nan\n",
    "            if(mt.isnan(np.linalg.norm(Datos[i:i+len(Mascara)]))):\n",
    "                i += 1\n",
    "            else:\n",
    "                #De no tener nan multiplicamos por la mascara para quedarnos\n",
    "                #solo con los elementos que nos importan\n",
    "                aux = np.array(Datos[i:i+len(Mascara)]) * np.array(Mascara)\n",
    "                #print(aux)\n",
    "                #multiplicamos por el vector con hueco\n",
    "                tmp = doZero(VecH)\n",
    "                v = int(np.matrix(aux)*np.matrix(tmp).transpose())\n",
    "                #print(v)\n",
    "                if v <= minV:\n",
    "                    vec = Datos[i:i+len(Mascara)]\n",
    "                    i+=1\n",
    "                else:\n",
    "                    i+=1\n",
    "                    \n",
    "        return vec\n",
    "                "
   ]
  },
  {
   "cell_type": "code",
   "execution_count": 38,
   "metadata": {},
   "outputs": [
    {
     "name": "stdout",
     "output_type": "stream",
     "text": [
      "[0]\n",
      "[1, 0, 0, 0, 0, 1, 0, 0, 0, 0, 1, 0, 1, 0, 0, 0, 0, 1, 0, 0, 0, 0, 1]\n"
     ]
    }
   ],
   "source": [
    "VecH = [3,np.nan,5]\n",
    "Datos = list(range(51))\n",
    "Mascara = VMask(1,5,3)\n",
    "print(Mascara)\n",
    "#print(VecH)\n",
    "#print(getBestVec(Datos,VecH,Mascara))"
   ]
  },
  {
   "cell_type": "code",
   "execution_count": 39,
   "metadata": {},
   "outputs": [
    {
     "name": "stdout",
     "output_type": "stream",
     "text": [
      "[7.0, 8.0, 22.0]\n"
     ]
    }
   ],
   "source": [
    "file = pd.read_csv('./CSVfiles/format_PED.csv')\n",
    "VecH = [21,np.nan,9] #espera[143,258,334]\n",
    "Datos = list(file.get('x_i'))\n",
    "Mascara = VMask([0],1,1)\n",
    "\n",
    "print(getBestVec(Datos,VecH,Mascara))"
   ]
  },
  {
   "cell_type": "code",
   "execution_count": null,
   "metadata": {},
   "outputs": [],
   "source": []
  }
 ],
 "metadata": {
  "kernelspec": {
   "display_name": "Python 2",
   "language": "python",
   "name": "python2"
  },
  "language_info": {
   "codemirror_mode": {
    "name": "ipython",
    "version": 2
   },
   "file_extension": ".py",
   "mimetype": "text/x-python",
   "name": "python",
   "nbconvert_exporter": "python",
   "pygments_lexer": "ipython2",
   "version": "2.7.16"
  }
 },
 "nbformat": 4,
 "nbformat_minor": 2
}
